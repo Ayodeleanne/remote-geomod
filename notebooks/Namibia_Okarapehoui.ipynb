{
 "cells": [
  {
   "cell_type": "markdown",
   "metadata": {},
   "source": [
    "# Geological model of Okarapehoui/ Nigeria\n",
    "\n",
    "Here another test case to create a geological model directly from GoogleEarth - completely work in progress, so beware...\n",
    "\n",
    "However, this notebook is focused on describing the method to *new* regions of interest - in addition to the Jebel Madar Dome example of the Paper.\n",
    "\n",
    "<img src=\"../figures/Namibia_Okauapehuri_perspective_view.png\" width=\"600\"/>\n",
    "\n"
   ]
  },
  {
   "cell_type": "code",
   "execution_count": 1,
   "metadata": {},
   "outputs": [
    {
     "name": "stderr",
     "output_type": "stream",
     "text": [
      "WARNING (theano.configdefaults): install mkl with `conda install mkl-service`: No module named 'mkl'\n"
     ]
    }
   ],
   "source": [
    "import sys, warnings, numpy as np, matplotlib.pyplot as plt, gdal\n",
    "sys.path.append(r\"..\")\n",
    "import rgeomod\n",
    "warnings.filterwarnings('ignore')\n",
    "sys.path.append(\"../../gempy\")\n",
    "import gempy as gp\n",
    "from mpl_toolkits.mplot3d import Axes3D\n",
    "%matplotlib inline"
   ]
  },
  {
   "cell_type": "markdown",
   "metadata": {},
   "source": [
    "## Determine model extent and obtain DTM\n",
    "\n",
    "As a first step, we determine the model extent this time directly from a path element in GoogleEarth.\n",
    "\n",
    "Here is an example for this model:\n",
    "\n",
    "<img src=\"../figures/Namibia_Okauapehuri_extent.png\" width=\"600\"/>\n",
    "\n",
    "As before, simply save this path to a `.kml` file. We now extract the coordinates from this path and determine min/max extent in each direction. To load the path:\n"
   ]
  },
  {
   "cell_type": "code",
   "execution_count": 2,
   "metadata": {},
   "outputs": [],
   "source": [
    "extent = rgeomod.KmlPoints()"
   ]
  },
  {
   "cell_type": "code",
   "execution_count": 3,
   "metadata": {},
   "outputs": [],
   "source": [
    "extent.read_kml(\"../data/Okauapehuri_model_extent.kml\")"
   ]
  },
  {
   "cell_type": "markdown",
   "metadata": {},
   "source": [
    "Here are the points of this line:"
   ]
  },
  {
   "cell_type": "code",
   "execution_count": 4,
   "metadata": {},
   "outputs": [
    {
     "data": {
      "text/plain": [
       "[p(13.861883, -17.561992) in latlong,\n",
       " p(13.863282, -17.562532) in latlong,\n",
       " p(13.863735, -17.509488) in latlong,\n",
       " p(13.926475, -17.501071) in latlong,\n",
       " p(13.999446, -17.526671) in latlong,\n",
       " p(14.013972, -17.566240) in latlong,\n",
       " p(14.006150, -17.593559) in latlong,\n",
       " p(13.897707, -17.575176) in latlong,\n",
       " p(13.874672, -17.566505) in latlong,\n",
       " p(13.865889, -17.563474) in latlong]"
      ]
     },
     "execution_count": 4,
     "metadata": {},
     "output_type": "execute_result"
    }
   ],
   "source": [
    "extent.point_sets[0].points"
   ]
  },
  {
   "cell_type": "markdown",
   "metadata": {},
   "source": [
    "Get minimum and maximum values:"
   ]
  },
  {
   "cell_type": "code",
   "execution_count": 7,
   "metadata": {},
   "outputs": [
    {
     "name": "stdout",
     "output_type": "stream",
     "text": [
      "[ 13.86188316 -17.59355927]\n",
      "[ 14.01397227 -17.50107068]\n"
     ]
    }
   ],
   "source": [
    "extent.point_sets[0].minmax()\n",
    "print(extent.point_sets[0].min)\n",
    "print(extent.point_sets[0].max)"
   ]
  },
  {
   "cell_type": "code",
   "execution_count": null,
   "metadata": {},
   "outputs": [],
   "source": []
  },
  {
   "cell_type": "code",
   "execution_count": null,
   "metadata": {},
   "outputs": [],
   "source": []
  },
  {
   "cell_type": "code",
   "execution_count": null,
   "metadata": {},
   "outputs": [],
   "source": []
  },
  {
   "cell_type": "code",
   "execution_count": null,
   "metadata": {},
   "outputs": [],
   "source": []
  },
  {
   "cell_type": "code",
   "execution_count": null,
   "metadata": {},
   "outputs": [],
   "source": []
  }
 ],
 "metadata": {
  "kernelspec": {
   "display_name": "Python [conda env:remote-geomod]",
   "language": "python",
   "name": "conda-env-remote-geomod-py"
  },
  "language_info": {
   "codemirror_mode": {
    "name": "ipython",
    "version": 3
   },
   "file_extension": ".py",
   "mimetype": "text/x-python",
   "name": "python",
   "nbconvert_exporter": "python",
   "pygments_lexer": "ipython3",
   "version": "3.6.4"
  }
 },
 "nbformat": 4,
 "nbformat_minor": 2
}
