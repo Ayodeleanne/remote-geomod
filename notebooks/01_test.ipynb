{
 "cells": [
  {
   "cell_type": "markdown",
   "metadata": {},
   "source": [
    "# 1 - Installation test\n",
    "\n",
    "This notebook is for testing the dependencies for rgeomod. Just run the following code cell.\n",
    "\n",
    "<div class=\"alert alert-info\">\n",
    "**Your task**: Run the code in the following cell (either using the \"Run\"-button above, or by usign the corresponding shortcut (typically <code>\"Shift\"+\"Enter\"</code>, see Help function above): \n",
    "</div>\n",
    "\n",
    "\n"
   ]
  },
  {
   "cell_type": "code",
   "execution_count": null,
   "metadata": {},
   "outputs": [],
   "source": [
    "import numpy as np\n",
    "import matplotlib.pyplot as plt\n",
    "from mpl_toolkits.mplot3d import Axes3D\n",
    "import mplstereonet\n",
    "from importlib import reload\n",
    "import sys\n",
    "import os\n",
    "sys.path.append(r\"..\")  # append local path to access rgeomod module\n",
    "import rgeomod\n",
    "# These two lines are necessary only if gempy is not installed\n",
    "sys.path.append(\"../../gempy/\")\n",
    "sys.path.append(\"../gempy/\")\n",
    "\n",
    "# Importing gempy\n",
    "import gempy as gp\n",
    "\n",
    "print(\"Test successful.\")"
   ]
  },
  {
   "cell_type": "markdown",
   "metadata": {},
   "source": [
    "<div class=\"alert alert-success\">\n",
    "If all packages were imported correctly, then you should see the message `Test successful` - and you are good to go with the following exercises! If you get a warning message from gempy, then it can be ignored (you can execute the cell again, then this warning should disappear).\n",
    "</div>\n",
    "\n",
    "<div class=\"alert alert-danger\">\n",
    "**Important note**: If the import of the required packages fails, then try the following:\n",
    "<ul>\n",
    "    <li>If importing `rgeomod` fails, then make sure that you pulled it correctly from github (especially when using the rgeomod-dependencies docker image).</li>\n",
    "    <li>If importing `gempy` fails, then check that the relative path is set correctly in `sys.path.append()` above.\n",
    "</ul>\n",
    "</div>\n",
    "\n"
   ]
  },
  {
   "cell_type": "code",
   "execution_count": null,
   "metadata": {},
   "outputs": [],
   "source": []
  }
 ],
 "metadata": {
  "kernelspec": {
   "display_name": "Python 3",
   "language": "python",
   "name": "python3"
  },
  "language_info": {
   "codemirror_mode": {
    "name": "ipython",
    "version": 3
   },
   "file_extension": ".py",
   "mimetype": "text/x-python",
   "name": "python",
   "nbconvert_exporter": "python",
   "pygments_lexer": "ipython3",
   "version": "3.6.2"
  }
 },
 "nbformat": 4,
 "nbformat_minor": 2
}
