{
 "cells": [
  {
   "cell_type": "markdown",
   "metadata": {},
   "source": [
    "# 1 - Installation test\n",
    "\n",
    "This notebook is for testing the dependencies for rgeomod. Just run the following code cell.\n",
    "\n",
    "<div class=\"alert alert-info\">\n",
    "**Your task**: Run the code in the following cells (either using the \"Run\"-button above, or by usign the corresponding shortcut (typically <code>\"Shift\"+\"Enter\"</code>, see Help function above): \n",
    "</div>\n",
    "\n",
    "\n"
   ]
  },
  {
   "cell_type": "markdown",
   "metadata": {},
   "source": [
    "#### Fundamental libraries"
   ]
  },
  {
   "cell_type": "code",
   "execution_count": 2,
   "metadata": {},
   "outputs": [
    {
     "name": "stdout",
     "output_type": "stream",
     "text": [
      "Fundamental Python libraries imported correctly.\n"
     ]
    }
   ],
   "source": [
    "import numpy, sys, os, tqdm\n",
    "print(\"Fundamental Python libraries imported correctly.\")"
   ]
  },
  {
   "cell_type": "markdown",
   "metadata": {},
   "source": [
    "#### Plotting libraries"
   ]
  },
  {
   "cell_type": "code",
   "execution_count": 3,
   "metadata": {},
   "outputs": [
    {
     "name": "stdout",
     "output_type": "stream",
     "text": [
      "Plotting libraries imported correctly.\n"
     ]
    }
   ],
   "source": [
    "import matplotlib.pyplot, mplstereonet\n",
    "from mpl_toolkits.mplot3d import Axes3D\n",
    "print(\"Plotting libraries imported correctly.\")"
   ]
  },
  {
   "cell_type": "markdown",
   "metadata": {},
   "source": [
    "#### 3D-Visualization library"
   ]
  },
  {
   "cell_type": "markdown",
   "metadata": {},
   "source": [
    "<div class=\"alert alert-danger\">\n",
    "**Important note**: 3D-Visualization using VTK is not available if you use Docker to run this exercise. This module is **optional**.\n",
    "</div>"
   ]
  },
  {
   "cell_type": "code",
   "execution_count": 4,
   "metadata": {},
   "outputs": [
    {
     "name": "stdout",
     "output_type": "stream",
     "text": [
      "3D-Visualization library VTK not found.\n",
      "This module is optional for the 3D visualization of data and geological models.\n"
     ]
    }
   ],
   "source": [
    "try:\n",
    "    import vtk\n",
    "    print(\"3D-Visualization library VTK imported correctly.\")\n",
    "except: \n",
    "    print(\"3D-Visualization library VTK not found.\")\n",
    "    print(\"This module is optional for the 3D visualization of data and geological models.\")"
   ]
  },
  {
   "cell_type": "markdown",
   "metadata": {},
   "source": [
    "#### remote-geomod"
   ]
  },
  {
   "cell_type": "code",
   "execution_count": 8,
   "metadata": {},
   "outputs": [
    {
     "name": "stdout",
     "output_type": "stream",
     "text": [
      "Python package remote-geomod imported correctly.\n"
     ]
    }
   ],
   "source": [
    "sys.path.append(r\"..\")  # append local path to access rgeomod module\n",
    "import rgeomod\n",
    "print(\"Python package remote-geomod imported correctly.\")"
   ]
  },
  {
   "cell_type": "markdown",
   "metadata": {},
   "source": [
    "<div class=\"alert alert-danger\">\n",
    "**Important note**: If importing `rgeomod` fails, then make sure that you pulled it correctly from github (especially when using the rgeomod-dependencies docker image).\n",
    "</div>"
   ]
  },
  {
   "cell_type": "markdown",
   "metadata": {},
   "source": [
    "#### GemPy\n",
    "\n",
    "<div class=\"alert alert-danger\">\n",
    "**Important note**: Any warnings that occur when loading the library can safely be ignored for the context of the exercise. If you want to get rid of the warning notes, simply execute the cell twice.\n",
    "</div>\n"
   ]
  },
  {
   "cell_type": "code",
   "execution_count": 11,
   "metadata": {},
   "outputs": [
    {
     "name": "stdout",
     "output_type": "stream",
     "text": [
      "3D-Modeling library GemPy imported correctly.\n"
     ]
    }
   ],
   "source": [
    "sys.path.append(\"../../gempy/\")\n",
    "sys.path.append(\"../gempy/\")\n",
    "import gempy\n",
    "print(\"3D-Modeling library GemPy imported correctly.\")"
   ]
  },
  {
   "cell_type": "markdown",
   "metadata": {},
   "source": [
    "<div class=\"alert alert-danger\">\n",
    "If importing `gempy` fails, then check that the relative path is set correctly in `sys.path.append()` above.\n",
    "</div>"
   ]
  },
  {
   "cell_type": "markdown",
   "metadata": {},
   "source": [
    "<div class=\"alert alert-success\">\n",
    "If all packages were imported correctly, then you should see `... imported correctly` after executing each cell - and you are good to go with the following exercises! If you get a warning message from gempy, then it can be ignored (you can execute the cell again, then this warning should disappear).\n",
    "</div>"
   ]
  },
  {
   "cell_type": "code",
   "execution_count": null,
   "metadata": {},
   "outputs": [],
   "source": []
  }
 ],
 "metadata": {
  "kernelspec": {
   "display_name": "Python 3",
   "language": "python",
   "name": "python3"
  },
  "language_info": {
   "codemirror_mode": {
    "name": "ipython",
    "version": 3
   },
   "file_extension": ".py",
   "mimetype": "text/x-python",
   "name": "python",
   "nbconvert_exporter": "python",
   "pygments_lexer": "ipython3",
   "version": "3.6.2"
  }
 },
 "nbformat": 4,
 "nbformat_minor": 2
}
