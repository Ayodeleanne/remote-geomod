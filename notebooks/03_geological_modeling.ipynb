{
 "cells": [
  {
   "cell_type": "markdown",
   "metadata": {},
   "source": [
    "### Step 3\n",
    "\n",
    "# Create geological model"
   ]
  },
  {
   "cell_type": "markdown",
   "metadata": {},
   "source": [
    "#### Import Python libraries"
   ]
  },
  {
   "cell_type": "code",
   "execution_count": null,
   "metadata": {},
   "outputs": [],
   "source": [
    "import sys, warnings, numpy as np, matplotlib.pyplot as plt, gdal\n",
    "sys.path.append(r\"..\")\n",
    "import rgeomod\n",
    "warnings.filterwarnings('ignore')\n",
    "import gempy as gp\n",
    "from mpl_toolkits.mplot3d import Axes3D\n",
    "%matplotlib inline"
   ]
  },
  {
   "cell_type": "markdown",
   "metadata": {},
   "source": [
    "### Step 3b: Define geological model object, load the interface and foliation data files and set model extent"
   ]
  },
  {
   "cell_type": "code",
   "execution_count": null,
   "metadata": {},
   "outputs": [],
   "source": [
    "geo_data=gp.create_data(extent=[612000, 622000, 2472000, 2480000, -1000, 1000], \n",
    "                        resolution=[50, 50, 50],\n",
    "                        path_o = \"../data/gempy_foliations.csv\",\n",
    "                        path_i = \"../data/gempy_interfaces.csv\")"
   ]
  },
  {
   "cell_type": "markdown",
   "metadata": {},
   "source": [
    "### Step 3c: Set stratigraphic order\n",
    "\n",
    "<div class=\"alert alert-info\">\n",
    "**Your task:** Enter the correct ordering of formation names as strings in the list variable *order_formations* in the code cell below and execute the following code cell to set the stratigraphic order for the modeling software. The **order** of the formations should be **from youngest to oldest** in the following list:\n",
    "</div>\n",
    "\n",
    "<div class=\"alert alert-warning\">\n",
    "**Note**: you can keep the provided names, or adjust them to suit your own definitions\n",
    "</div>\n",
    "\n"
   ]
  },
  {
   "cell_type": "code",
   "execution_count": null,
   "metadata": {},
   "outputs": [],
   "source": [
    "formation_order = [\"Unit4\", \"Unit3\", \"Unit2\", \"Unit1\"]"
   ]
  },
  {
   "cell_type": "markdown",
   "metadata": {},
   "source": [
    "With the code in the next cell, we define the order of the geological formations and obtain an overview of the stratigraphic pile.\n",
    "\n",
    "<div class=\"alert alert-warning\">\n",
    "**Note**: We only have one modeling \"series\" in this case. A series (in this modeling context) is defined as a sequence of (sub-)parallel surfaces. However, the order of the \"Units\" is important and should reflect the actual relative age ordering you interpret from GoogleEarth.\n",
    "</div>\n",
    "\n",
    "\n"
   ]
  },
  {
   "cell_type": "code",
   "execution_count": null,
   "metadata": {},
   "outputs": [],
   "source": [
    "gp.set_series(geo_data, {\"Default series\": formation_order},\n",
    "              order_formations = formation_order, verbose=1)"
   ]
  },
  {
   "cell_type": "markdown",
   "metadata": {},
   "source": [
    "### Step 3d: create plots of raw data in map view and cross sections\n",
    "\n",
    "<div class=\"alert alert-info\">\n",
    "**Your task:** Execute the code below to generate a plot of your picked points and processed orientation values. Note: adjust `direction=\"z\"` to `direction=\"x\"` or `direction=\"y\"` to get section views in E-W and N-S directions:\n",
    "</div>\n",
    "\n",
    "<div class=\"alert alert-warning\">\n",
    "**Note**: review carefully at this step if the defined sequence order in the stratigraphic pile is correct!\n",
    "</div>\n",
    "\n"
   ]
  },
  {
   "cell_type": "code",
   "execution_count": null,
   "metadata": {},
   "outputs": [],
   "source": [
    "gp.plot_data(geo_data, direction=\"z\")"
   ]
  },
  {
   "cell_type": "markdown",
   "metadata": {},
   "source": [
    "### Step 3e (optional): visualize input data in 3-D using VTK\n",
    "\n",
    "<div class=\"alert alert-info\">\n",
    "**Your task:** Execute the code below to generate a 3-D visualisation in an external VTK-viewer:\n",
    "</div>\n"
   ]
  },
  {
   "cell_type": "markdown",
   "metadata": {},
   "source": [
    "<div class=\"alert alert-danger\">\n",
    "**Important note (1)**: You need to **close the external viewer (press Q)** when finished with the inspection in order to continue with this workbook.\n",
    "</div>\n",
    "\n",
    "<div class=\"alert alert-danger\">\n",
    "**Important note (2)**: The VTK viewer is *interactive*: if you change a point here (you can click and drag points to move), then the position will be updated in your model, so **be careful**!\n",
    "</div>\n",
    "\n",
    "<div class=\"alert alert-danger\">\n",
    "**Important note (3)**: 3D-Visualization using VTK is not available if you use Docker to run this exercise. This part is **optional**.\n",
    "</div>"
   ]
  },
  {
   "cell_type": "code",
   "execution_count": null,
   "metadata": {},
   "outputs": [],
   "source": [
    "try:\n",
    "    gp.plot_data_3D(geo_data)\n",
    "except NameError:\n",
    "    print(\"3-D visualization library vtk not installed.\")"
   ]
  },
  {
   "cell_type": "markdown",
   "metadata": {},
   "source": [
    "### Computing the 3D Model"
   ]
  },
  {
   "cell_type": "markdown",
   "metadata": {},
   "source": [
    "<div class=\"alert alert-info\">\n",
    "**Your task:** Execute the following two cells to perform the model interpolation step.\n",
    "</div>\n",
    "\n",
    "<div class=\"alert alert-warning\">\n",
    "**Note**: The following code cell **will need several minutes to execute**, depending on your system configuration. As this step is compute- and memory-intense, it can also fail (you will then get a \"kernal died\" warning). If this happens, then check your memory settings (especially if you are using the installation in a docker container) and re-run the notebook.\n",
    "</div>"
   ]
  },
  {
   "cell_type": "code",
   "execution_count": null,
   "metadata": {},
   "outputs": [],
   "source": [
    "interp_data = gp.InterpolatorData(geo_data, compile_theano=True)"
   ]
  },
  {
   "cell_type": "code",
   "execution_count": null,
   "metadata": {},
   "outputs": [],
   "source": [
    "lith_block, fault_block = gp.compute_model(interp_data)\n",
    "print(\"3-D geological model calculated.\")"
   ]
  },
  {
   "cell_type": "markdown",
   "metadata": {},
   "source": [
    "### Step 4\n",
    "\n",
    "## Post-processing results for visualization and interpretation\n",
    "\n",
    "With the following code cells, we provide several methods to generate visualizations of the generated geological model. The straight-forward way is to represent the result in a cross-section through the model. Note that, at this step, this is directly possible as we have the full interpolation in 3-D. Results can be compared to the manually created cross-section, if you performed this exercise before (von Hagke et al., submitted).\n",
    "\n",
    "However, as the model is available in full 3-D, we can also attempt visualizations in 3-D plots. One example is implemented directly in the notebook (in a static, and therefore somewhat limited view); a better option is again to use the external VTK viewer to inspect model and data interactively in 3-D.\n",
    "\n",
    "<div class=\"alert alert-warning\">\n",
    "**Note**: For your convenience, results will directly be saved as high-quality `pdf`-files in the `../data` directory, for further use in discussions, reports, etc.\n",
    "</div>\n",
    "\n",
    "### 2D Sections\n",
    "\n",
    "<div class=\"alert alert-info\">\n",
    "**Your task:** Execute the following two cells to generate cross-sections in 'x'-(E-W) and 'y'-(N-S) directions:\n",
    "</div>\n",
    "\n"
   ]
  },
  {
   "cell_type": "code",
   "execution_count": null,
   "metadata": {},
   "outputs": [],
   "source": [
    "gp.plot_section(geo_data, lith_block[0], 25, direction='y', plot_data=False)\n",
    "plt.savefig(\"../data/cross_section_NS_25.pdf\", bbox_inches=\"tight\")"
   ]
  },
  {
   "cell_type": "code",
   "execution_count": null,
   "metadata": {},
   "outputs": [],
   "source": [
    "gp.plot_section(geo_data, lith_block[0], 25, direction='x', plot_data=False)\n",
    "plt.savefig(\"../data/cross_section_EW_25.pdf\", bbox_inches=\"tight\")"
   ]
  },
  {
   "cell_type": "markdown",
   "metadata": {},
   "source": [
    "### Pseudo-3D surfaces\n",
    "\n",
    "From the interpolated block model we can extract the `vertices` and `simplices` to construct layer interfaces for 3-D visualization.\n",
    "\n",
    "\n",
    "<div class=\"alert alert-info\">\n",
    "**Your task:** Execute the following cells to generate a static 3-D view of the interpolated geological surfaces:\n",
    "</div>\n",
    "\n"
   ]
  },
  {
   "cell_type": "code",
   "execution_count": null,
   "metadata": {},
   "outputs": [],
   "source": [
    "vertices, simplices = gp.get_surfaces(interp_data, potential_lith=lith_block[1], step_size=2)"
   ]
  },
  {
   "cell_type": "markdown",
   "metadata": {},
   "source": [
    "Although the main Python plotting library `matplotlib`is designed for 2-D visualization, it has some support for pseudo-3-D visualization:"
   ]
  },
  {
   "cell_type": "code",
   "execution_count": null,
   "metadata": {},
   "outputs": [],
   "source": [
    "fig = plt.figure(figsize=(13,10))\n",
    "ax = fig.add_subplot(111, projection='3d')\n",
    "cs = [\"lightblue\", \"pink\", \"lightgreen\", \"orange\"]\n",
    "for i in range(4):\n",
    "    surf = ax.plot_trisurf(vertices[i][:,0], vertices[i][:,1], vertices[i][:,2], \n",
    "                           color=cs[i], linewidth=0, alpha=0.65, shade=False)\n",
    "plt.savefig(\"../data/surfaces_3D.pdf\", bbox_inches=\"tight\")"
   ]
  },
  {
   "cell_type": "markdown",
   "metadata": {},
   "source": [
    "### 3D Visualization using VTK\n",
    "\n",
    "For actual 3-D visualization we can make use of the 3-D visualization library `vtk` to look at the interpolated geological model in a more intuitive and flexible way. \n",
    "\n",
    "<div class=\"alert alert-danger\">\n",
    "**Important note (1)**: You need to **close the external viewer** when finished with the inspection in order to continue with this workbook.\n",
    "</div>\n",
    "\n",
    "<div class=\"alert alert-danger\">\n",
    "**Important note (2)**: The VTK viewer is *interactive*: if you change a point here (you can click and drag points to move), then the position will be updated in your model, so **be careful**!\n",
    "</div>\n",
    "\n",
    "<div class=\"alert alert-danger\">\n",
    "**Important note (3)**: 3D-Visualization using VTK is not available if you use Docker to run this exercise. This part is **optional**.\n",
    "</div>"
   ]
  },
  {
   "cell_type": "code",
   "execution_count": null,
   "metadata": {},
   "outputs": [],
   "source": [
    "try:\n",
    "    gp.plot_surfaces_3D(geo_data, vertices, simplices)\n",
    "except NameError:\n",
    "    print(\"3-D visualization library vtk not installed.\")"
   ]
  },
  {
   "cell_type": "markdown",
   "metadata": {},
   "source": [
    "### Creating a geological map"
   ]
  },
  {
   "cell_type": "markdown",
   "metadata": {},
   "source": [
    "We can now intersect the interpolated geological model with the digital terrain model to create a geological map. As a first step, we load the corresponding digital terrain model (DTM) for the modeling region. We then set up a new interpolation according to the topography resolution (for a correct export of the model), and as before, import the data points and define the stratigraphy. We then calculate the geological map from the intersection between geological model and terrain model. \n",
    "\n",
    "The generated map can be visualized again in a 2-D plot, but we also make use of the possibility to save the map in a GeoTiff-format to re-import the map back into GoogleEarth for a better inspection and interpretation of the results.\n",
    "\n",
    "<div class=\"alert alert-info\">\n",
    "**Your task:** Load DTM data:\n",
    "</div>"
   ]
  },
  {
   "cell_type": "code",
   "execution_count": null,
   "metadata": {},
   "outputs": [],
   "source": [
    "# load the digital elevation model\n",
    "geotiff_filepath = \"../data/dome_sub_sub_utm.tif\"\n",
    "raster = gdal.Open(geotiff_filepath)\n",
    "dtm = raster.ReadAsArray()\n",
    "dtmp = plt.imshow(dtm, origin='upper', cmap=\"viridis\");\n",
    "plt.title(\"Digital elevation model\");\n",
    "plt.colorbar(dtmp, label=\"Elevation [m]\");\n",
    "plt.savefig(\"../data/DTM.pdf\")"
   ]
  },
  {
   "cell_type": "markdown",
   "metadata": {},
   "source": [
    "<div class=\"alert alert-info\">\n",
    "**Your task:** Build basic gempy using _data_ extent (_resolution_ does not matter for the interpolation but is important for the visualization) and perform the interpolation steps with the following cells:\n",
    "</div>\n",
    "\n"
   ]
  },
  {
   "cell_type": "code",
   "execution_count": null,
   "metadata": {},
   "outputs": [],
   "source": [
    "# To be able to use gempy plotting functionality we need to create a dummy geo_data object with the\n",
    "# resoluion we want. In this case resolution=[339, 271, 1]\n",
    "import copy\n",
    "geo_data_dummy = copy.deepcopy(geo_data)\n",
    "geo_data_dummy.resolution = [339, 271, 1]"
   ]
  },
  {
   "cell_type": "code",
   "execution_count": null,
   "metadata": {},
   "outputs": [],
   "source": [
    "# convert the dtm to a gempy-suitable raveled grid\n",
    "points = rgeomod.convert_dtm_to_gempy_grid(raster, dtm)"
   ]
  },
  {
   "cell_type": "markdown",
   "metadata": {},
   "source": [
    "Now we can use the function `compute_model_at` to get the lithology values at a specific location:"
   ]
  },
  {
   "cell_type": "code",
   "execution_count": null,
   "metadata": {
    "run_control": {
     "marked": true
    }
   },
   "outputs": [],
   "source": [
    "# interp_data_geomap = gp.InterpolatorInput(geo_data, dtype=\"float64\")\n",
    "lith_block, fault_block = gp.compute_model_at(points, interp_data)"
   ]
  },
  {
   "cell_type": "markdown",
   "metadata": {},
   "source": [
    "<div class=\"alert alert-info\">\n",
    "**Your task:** Create a visual representation of the geological map in a 2-D plot (note: result is also again saved to the `../data`-folder):\n",
    "</div>\n",
    "\n",
    "And here **the geological map**:"
   ]
  },
  {
   "cell_type": "code",
   "execution_count": null,
   "metadata": {},
   "outputs": [],
   "source": [
    "gp.plot_section(geo_data_dummy, lith_block[0], 0, direction='z', plot_data=False)\n",
    "plt.title(\"Geological map\");\n",
    "plt.savefig(\"../geological_map.pdf\")"
   ]
  },
  {
   "cell_type": "markdown",
   "metadata": {},
   "source": [
    "### Export the map for visualization in GoogleEarth"
   ]
  },
  {
   "cell_type": "markdown",
   "metadata": {},
   "source": [
    "<div class=\"alert alert-info\">\n",
    "**Your task:** Execute the following code to export a GeoTiff of the generated geological map, as well as `kml`-files with your picked points inside the data folder. Open these files in GoogleEarth and inspect the generated map:\n",
    "</div>\n",
    "\n",
    "\n",
    "<div class=\"alert alert-warning\">\n",
    "**Note (1)**: Use the normal `File -> Open..` dialog in GoogleEarth to open the data - no need to use the `Import` method, as the GeoTiff contains the correct coordinates in the file.\n",
    "</div>\n",
    "\n",
    "\n",
    "<div class=\"alert alert-warning\">\n",
    "**Note (2)**: For a better interpretation of the generated map, use the transparency feature (directly after opening the map, or using `right-click -> Get Info` on the file).\n",
    "</div>"
   ]
  },
  {
   "cell_type": "code",
   "execution_count": null,
   "metadata": {},
   "outputs": [],
   "source": [
    "geo_map = lith_block[0].copy().reshape((339,271))\n",
    "geo_map = geo_map.astype('int16')  # change to int for later use"
   ]
  },
  {
   "cell_type": "code",
   "execution_count": null,
   "metadata": {},
   "outputs": [],
   "source": [
    "rgeomod.export_geotiff(\"../data/geomap.tif\", geo_map, gp.plotting.colors.cmap, geotiff_filepath)"
   ]
  },
  {
   "cell_type": "markdown",
   "metadata": {},
   "source": [
    "Export the interface data points:"
   ]
  },
  {
   "cell_type": "code",
   "execution_count": null,
   "metadata": {},
   "outputs": [],
   "source": [
    "t = \"../rgeomod/templates/ge_template_raw_interf.xml\"\n",
    "pt = \"../rgeomod/templates/ge_placemark_template_interf.xml\"\n",
    "rgeomod.gempy_export_points_to_kml(\"../data/\", geo_data, pt, t, gp.plotting.colors.cmap)"
   ]
  },
  {
   "cell_type": "markdown",
   "metadata": {},
   "source": [
    "Export the foliation data:"
   ]
  },
  {
   "cell_type": "code",
   "execution_count": null,
   "metadata": {},
   "outputs": [],
   "source": [
    "t = \"../rgeomod/templates/ge_template_raw_fol.xml\"\n",
    "pt = \"../rgeomod/templates/ge_placemark_template_fol.xml\"\n",
    "rgeomod.gempy_export_fol_to_kml(\"../data/dips.kml\", geo_data, pt, t)"
   ]
  }
 ],
 "metadata": {
  "kernelspec": {
   "display_name": "Python [conda env:rgeomod]",
   "language": "python",
   "name": "conda-env-rgeomod-py"
  },
  "language_info": {
   "codemirror_mode": {
    "name": "ipython",
    "version": 3
   },
   "file_extension": ".py",
   "mimetype": "text/x-python",
   "name": "python",
   "nbconvert_exporter": "python",
   "pygments_lexer": "ipython3",
   "version": "3.6.5"
  },
  "latex_envs": {
   "LaTeX_envs_menu_present": true,
   "autocomplete": true,
   "bibliofile": "biblio.bib",
   "cite_by": "apalike",
   "current_citInitial": 1,
   "eqLabelWithNumbers": true,
   "eqNumInitial": 1,
   "hotkeys": {
    "equation": "Ctrl-E",
    "itemize": "Ctrl-I"
   },
   "labels_anchors": false,
   "latex_user_defs": false,
   "report_style_numbering": false,
   "user_envs_cfg": false
  },
  "toc": {
   "colors": {
    "hover_highlight": "#DAA520",
    "running_highlight": "#FF0000",
    "selected_highlight": "#FFD700"
   },
   "moveMenuLeft": true,
   "nav_menu": {
    "height": "303px",
    "width": "251px"
   },
   "navigate_menu": true,
   "number_sections": true,
   "sideBar": true,
   "threshold": 4,
   "toc_cell": false,
   "toc_section_display": "block",
   "toc_window_display": false,
   "widenNotebook": false
  }
 },
 "nbformat": 4,
 "nbformat_minor": 2
}
