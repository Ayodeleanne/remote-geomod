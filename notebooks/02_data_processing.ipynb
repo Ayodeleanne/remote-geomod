{
 "cells": [
  {
   "cell_type": "markdown",
   "metadata": {},
   "source": [
    "### Step 2\n",
    "# Process coordinate points and add altitude values"
   ]
  },
  {
   "cell_type": "markdown",
   "metadata": {},
   "source": [
    "##### Import of Python libraries"
   ]
  },
  {
   "cell_type": "code",
   "execution_count": null,
   "metadata": {},
   "outputs": [],
   "source": [
    "import sys, mplstereonet\n",
    "sys.path.append(r\"..\")  # append local path to access rgeomod module\n",
    "import rgeomod\n",
    "import numpy as np\n",
    "\n",
    "import matplotlib.pyplot as plt\n",
    "from mpl_toolkits.mplot3d import Axes3D\n",
    "%matplotlib inline"
   ]
  },
  {
   "cell_type": "markdown",
   "metadata": {},
   "source": [
    "### Step 2b: Load and transform coordinate data"
   ]
  },
  {
   "cell_type": "markdown",
   "metadata": {},
   "source": [
    "<div class=\"alert alert-info\">\n",
    "**Your task**: Set the **folder_path** variable to the folder where your exported GoogleEarth data is located and execute the cell to load the point sets stored in the *.kml* files.\n",
    "</div>"
   ]
  },
  {
   "cell_type": "code",
   "execution_count": null,
   "metadata": {},
   "outputs": [],
   "source": [
    "folder_path = \"../data/FW2/\"\n",
    "point_sets, formation_names, ps_bool, fn = rgeomod.read_kml_files(folder_path)"
   ]
  },
  {
   "cell_type": "markdown",
   "metadata": {},
   "source": [
    "*point_sets* contains the point set objects, containing the point data from the respective .kml files in the given directory:"
   ]
  },
  {
   "cell_type": "code",
   "execution_count": null,
   "metadata": {},
   "outputs": [],
   "source": [
    "point_sets"
   ]
  },
  {
   "cell_type": "markdown",
   "metadata": {},
   "source": [
    "*formation_names* contains the formation names extracted from the filenames:"
   ]
  },
  {
   "cell_type": "code",
   "execution_count": null,
   "metadata": {},
   "outputs": [],
   "source": [
    "formation_names"
   ]
  },
  {
   "cell_type": "markdown",
   "metadata": {},
   "source": [
    "*ps_bool* is a boolean array specifying which object contains dip values:"
   ]
  },
  {
   "cell_type": "code",
   "execution_count": null,
   "metadata": {},
   "outputs": [],
   "source": [
    "ps_bool"
   ]
  },
  {
   "cell_type": "markdown",
   "metadata": {},
   "source": [
    "### Step 2c: Add elevation values"
   ]
  },
  {
   "cell_type": "markdown",
   "metadata": {},
   "source": [
    "<div class=\"alert alert-info\">\n",
    "**Your task**: Run the following cell to extract the elevation data for our point sets from the digital elevation model.\n",
    "</div>"
   ]
  },
  {
   "cell_type": "code",
   "execution_count": null,
   "metadata": {},
   "outputs": [],
   "source": [
    "# set the path to the geotiff file:\n",
    "geotiff_filepath = \"../data/dome_sub_sub_utm.tif\"\n",
    "\n",
    "rgeomod.get_elevation_from_dtm(point_sets, geotiff_filepath)"
   ]
  },
  {
   "cell_type": "markdown",
   "metadata": {},
   "source": [
    "### Step 2d: Fit plane to points and determine orientations"
   ]
  },
  {
   "cell_type": "markdown",
   "metadata": {},
   "source": [
    "<div class=\"alert alert-info\">\n",
    "Running the following cell will fit planes to the foliation point sets:\n",
    "</div>"
   ]
  },
  {
   "cell_type": "code",
   "execution_count": null,
   "metadata": {},
   "outputs": [],
   "source": [
    "rgeomod.fit_planes_to_points(point_sets)"
   ]
  },
  {
   "cell_type": "markdown",
   "metadata": {},
   "source": [
    "### Step 2e: Visualize data"
   ]
  },
  {
   "cell_type": "markdown",
   "metadata": {},
   "source": [
    "### Convert data into readable DataFrames\n",
    "\n",
    "<div class=\"alert alert-info\">\n",
    "Now we convert the interface and fitted foliation data stored in the point sets to a more intuitive data format: **Data Frames**, which simply represent data tables. \n",
    "</div>"
   ]
  },
  {
   "cell_type": "code",
   "execution_count": null,
   "metadata": {},
   "outputs": [],
   "source": [
    "interfaces, foliations = rgeomod.convert_to_df(point_sets, formation_names, fn, ps_bool)"
   ]
  },
  {
   "cell_type": "markdown",
   "metadata": {},
   "source": [
    "To get a quick view of the data, we can (for example) get a list of the last 5 entries using the `.tail()` function:"
   ]
  },
  {
   "cell_type": "code",
   "execution_count": null,
   "metadata": {},
   "outputs": [],
   "source": [
    "foliations.tail()"
   ]
  },
  {
   "cell_type": "markdown",
   "metadata": {},
   "source": [
    "<div class=\"alert alert-info\">\n",
    "Now that we have our data in a convenient format (Data Frames), we can use visualization techniques to better analyze our data. In the following we will make use of three different visualizations:\n",
    "<br>\n",
    "\n",
    "<ul>\n",
    "    <li>Pseudo-3D visualization of the data points;</li>\n",
    "    <li>Create histograms to visualize the distribution of dip angles and dip directions;</li>\n",
    "    <li>Plot the orientation dip data in stereoplots.</li>\n",
    "</ul>\n",
    "\n",
    "</div>\n",
    "\n",
    "#### 3D Point Cloud"
   ]
  },
  {
   "cell_type": "code",
   "execution_count": null,
   "metadata": {
    "scrolled": false
   },
   "outputs": [],
   "source": [
    "rgeomod.plot_input_data_3d_scatter(interfaces, foliations)"
   ]
  },
  {
   "cell_type": "markdown",
   "metadata": {},
   "source": [
    "#### Histograms"
   ]
  },
  {
   "cell_type": "code",
   "execution_count": null,
   "metadata": {},
   "outputs": [],
   "source": [
    "fig = plt.figure(figsize=(10,4))\n",
    "ax1 = fig.add_subplot(121)\n",
    "ax2 = fig.add_subplot(122)\n",
    "\n",
    "ax1.hist(foliations[\"dip\"], 18)\n",
    "ax1.set_xlabel(\"Dips\")\n",
    "ax1.set_ylabel(\"Counts\")\n",
    "\n",
    "ax2.hist(foliations[\"azimuth\"], 18, color='r');\n",
    "ax2.set_xlabel(\"Dip Directions\")\n",
    "ax2.set_ylabel(\"Counts\");"
   ]
  },
  {
   "cell_type": "markdown",
   "metadata": {},
   "source": [
    "#### Stereonet plots"
   ]
  },
  {
   "cell_type": "code",
   "execution_count": null,
   "metadata": {},
   "outputs": [],
   "source": [
    "fig, ax = mplstereonet.subplots()\n",
    "cax = ax.density_contourf(foliations[\"azimuth\"], foliations[\"dip\"], measurement='poles', cmap='viridis', alpha=0.75)\n",
    "fig.colorbar(cax)\n",
    "ax.pole(foliations[\"azimuth\"], foliations[\"dip\"], 'g^', markersize=4)\n",
    "ax.grid(True, color=\"black\", alpha=0.25)"
   ]
  },
  {
   "cell_type": "code",
   "execution_count": null,
   "metadata": {},
   "outputs": [],
   "source": [
    "fig = plt.figure()\n",
    "ax = fig.add_subplot(111, projection='stereonet')\n",
    "ax.pole(foliations[\"azimuth\"], foliations[\"dip\"], 'g^', markersize=4)\n",
    "ax.plane(foliations[\"azimuth\"], foliations[\"dip\"], 'g-', linewidth=0.75, alpha=0.85)\n",
    "ax.grid(True, color=\"black\", alpha=0.25)"
   ]
  },
  {
   "cell_type": "markdown",
   "metadata": {},
   "source": [
    "# Step 4: Save the data\n",
    "\n",
    "<div class=\"alert alert-info\">\n",
    "Now that we successfully added height values, fit orientation data and got a more intuitive understanding our picked data through visualization, we can save it as *.csv* files for storage and later use for 3D geomodeling.\n",
    "</div>"
   ]
  },
  {
   "cell_type": "code",
   "execution_count": null,
   "metadata": {},
   "outputs": [],
   "source": [
    "interfaces.to_csv(\"../data/gempy_interfaces.csv\", index=False)\n",
    "foliations.to_csv(\"../data/gempy_foliations.csv\", index=False)"
   ]
  },
  {
   "cell_type": "markdown",
   "metadata": {},
   "source": [
    "### Export as GoogleEarth points"
   ]
  },
  {
   "cell_type": "code",
   "execution_count": null,
   "metadata": {},
   "outputs": [],
   "source": [
    "template_fp = \"../rgeomod/ge_point_template.xml\"\n",
    "placemark_template_fp = \"../rgeomod/ge_placemark_template.xml\""
   ]
  }
 ],
 "metadata": {
  "kernelspec": {
   "display_name": "Python [conda env:rgeomod]",
   "language": "python",
   "name": "conda-env-rgeomod-py"
  },
  "language_info": {
   "codemirror_mode": {
    "name": "ipython",
    "version": 3
   },
   "file_extension": ".py",
   "mimetype": "text/x-python",
   "name": "python",
   "nbconvert_exporter": "python",
   "pygments_lexer": "ipython3",
   "version": "3.6.5"
  }
 },
 "nbformat": 4,
 "nbformat_minor": 2
}
