{
 "cells": [
  {
   "cell_type": "markdown",
   "metadata": {},
   "source": [
    "# Three point problem"
   ]
  },
  {
   "cell_type": "markdown",
   "metadata": {},
   "source": [
    "Imagine that you are on a geological mapping campaign and that you observe a geological boundary at three points. You assume that the boundary is a flat plane and you would like to know the strike/ dip of this plane. \n",
    "\n",
    "This is a classical spatial interpolation problem (often called the \"three-point-problem\") and there are several possibilities to obtain a result (and maybe you discussed some in your geological mapping classes). You will here use the methods of linear interpolation that we discussed during the lecture.\n",
    "\n",
    "We denote the positions of our observation points (i.e. the $x$-, $y$-coordinates) as:\n",
    "\n",
    "$$x_i, y_i \\mbox{ for } i \\in {0,1,2}$$\n",
    "\n",
    "And the $z$ value of our observation is the dependent value:\n",
    "\n",
    "$$z_i = f(x_i,y_i) \\mbox{ for } i \\in {0,1,2}$$\n",
    "\n",
    "We can then write the equations for first-order linear interpolation as:\n",
    "\n",
    "$$z_0 = a_0 + a_1 x_0 + a_2 y_0$$\n",
    "$$z_1 = a_0 + a_1 x_1 + a_2 y_1$$\n",
    "$$z_2 = a_0 + a_1 x_2 + a_2 y_2$$\n",
    "\n",
    "Or in matrix form as:\n",
    "\n",
    "$$\\left[ \\begin{array}{ccc}\n",
    "1 & x_0 & y_0 \\\\\n",
    "1 & x_1 & y_1 \\\\\n",
    "1 & x_2 & y_2 \\end{array} \\right]\n",
    "\\left\\{ \\begin{array}{ccc}\n",
    "a_0 \\\\\n",
    "a_1 \\\\\n",
    "a_2 \\end{array} \\right\\}\n",
    "=\n",
    "\\left\\{ \\begin{array}{ccc}\n",
    "z_0 \\\\\n",
    "z_1 \\\\\n",
    "z_2 \\end{array} \\right\\}\n",
    "$$\n",
    "\n",
    "We now need a method to solve this equation for the vector with the unknown $a_i$'s. One convenient method to solve these types of equations is implemented in the `numpy` method `np.linalg.solve()`. For example, if the matrix is stored in variable `B`, and the z-values in an array variable `z`, and the a-values in variable `a` so that we can write the equation in the form:\n",
    "\n",
    "$$B a = z$$\n",
    "\n",
    "Then we can obtain the results of `a` as:\n",
    "\n",
    "```python\n",
    "(a_0, a_1, a_2) = np.linalg.solve(B, z)\n",
    "```\n",
    "\n",
    "Going back to the equations at the beginning, you can see that we now have the slope values in $x$- and $y$- direction (partial derivatives for each axis) stored in the variables $a_1$ and $a_2$. We can use these results to obtain the structural geological (dip-direction/ dip) values using the following equations:\n",
    "\n",
    "```python\n",
    "maxslope = np.sqrt(a_1**2 + a_2**2)\n",
    "dip = np.arctan(maxslope) / np.pi * 180.\n",
    "dip_direction = np.abs(np.arctan2(-a_1, -a_2)) /  np.pi * 180.\n",
    "```\n",
    "\n",
    "All of these aspects are implemented in the following module and can be called with the function `three_points_to_plane()`:"
   ]
  },
  {
   "cell_type": "code",
   "execution_count": 1,
   "metadata": {
    "collapsed": true
   },
   "outputs": [],
   "source": [
    "import os, sys\n",
    "sys.path.append(r\"..\")"
   ]
  },
  {
   "cell_type": "code",
   "execution_count": 2,
   "metadata": {
    "collapsed": false
   },
   "outputs": [
    {
     "data": {
      "text/plain": [
       "<module 'struct_geo' from '../struct_geo.pyc'>"
      ]
     },
     "execution_count": 2,
     "metadata": {},
     "output_type": "execute_result"
    }
   ],
   "source": [
    "import struct_geo\n",
    "reload(struct_geo)"
   ]
  },
  {
   "cell_type": "code",
   "execution_count": 334,
   "metadata": {
    "collapsed": false
   },
   "outputs": [],
   "source": [
    "# test your implementation:\n",
    "p_0 = (0, 0, 0)\n",
    "p_1 = (1, 0, 0)\n",
    "p_2 = (0, 1, -1)\n",
    "\n",
    "# from dome\n",
    "import numpy as np\n",
    "# p_0 = np.array([2478083., 615163., 385.])\n",
    "# p_1 = np.array([2477890., 615172., 439.])\n",
    "# p_2 = np.array([2477825., 615029., 386.])\n",
    "\n",
    "\n",
    "p_0 = np.array([615163, 2478083.5, 385])\n",
    "p_1 = np.array([615172, 2477890, 439])\n",
    "p_2 = np.array([615029, 2477825, 385])\n",
    "\n",
    "P = np.vstack([p_0, p_1, p_2])"
   ]
  },
  {
   "cell_type": "code",
   "execution_count": 335,
   "metadata": {
    "collapsed": false
   },
   "outputs": [
    {
     "data": {
      "text/plain": [
       "array([[  6.15163000e+05,   2.47808350e+06,   3.85000000e+02],\n",
       "       [  6.15172000e+05,   2.47789000e+06,   4.39000000e+02],\n",
       "       [  6.15029000e+05,   2.47782500e+06,   3.85000000e+02]])"
      ]
     },
     "execution_count": 335,
     "metadata": {},
     "output_type": "execute_result"
    }
   ],
   "source": [
    "P"
   ]
  },
  {
   "cell_type": "code",
   "execution_count": 337,
   "metadata": {
    "collapsed": false
   },
   "outputs": [
    {
     "data": {
      "text/plain": [
       "array([[ 134. ,  258.5,    0. ],\n",
       "       [ 143. ,   65. ,   54. ],\n",
       "       [   0. ,    0. ,    0. ]])"
      ]
     },
     "execution_count": 337,
     "metadata": {},
     "output_type": "execute_result"
    }
   ],
   "source": [
    "P[:,0] -= np.min(P[:,0])\n",
    "P[:,1] -= np.min(P[:,1])\n",
    "P[:,2] -= np.min(P[:,2])\n",
    "P"
   ]
  },
  {
   "cell_type": "markdown",
   "metadata": {},
   "source": [
    "## Determine plane orientation"
   ]
  },
  {
   "cell_type": "code",
   "execution_count": 341,
   "metadata": {
    "collapsed": false
   },
   "outputs": [
    {
     "name": "stdout",
     "output_type": "stream",
     "text": [
      "The correspoding plane is (062/29)\n"
     ]
    }
   ],
   "source": [
    "dip, dip_direction = struct_geo.calculate_dip_direction_dip(P[0,:], P[1,:], P[2,:])\n",
    "print(\"The correspoding plane is (%03d/%02d)\" % (dip_direction, dip))"
   ]
  },
  {
   "cell_type": "markdown",
   "metadata": {},
   "source": [
    "## Plot plane"
   ]
  },
  {
   "cell_type": "code",
   "execution_count": 180,
   "metadata": {
    "collapsed": false
   },
   "outputs": [],
   "source": [
    "struct_geo.plot_three_point(p_0, p_1, p_2)"
   ]
  },
  {
   "cell_type": "code",
   "execution_count": 193,
   "metadata": {
    "collapsed": false
   },
   "outputs": [],
   "source": [
    "P = P/np.max(P)"
   ]
  },
  {
   "cell_type": "code",
   "execution_count": 194,
   "metadata": {
    "collapsed": false
   },
   "outputs": [
    {
     "data": {
      "text/plain": [
       "array([[  2.48241433e-01,   1.00000000e+00,   1.55361996e-04],\n",
       "       [  2.48245065e-01,   9.99921915e-01,   1.77153030e-04],\n",
       "       [  2.48187359e-01,   9.99895686e-01,   1.55361996e-04]])"
      ]
     },
     "execution_count": 194,
     "metadata": {},
     "output_type": "execute_result"
    }
   ],
   "source": [
    "P"
   ]
  },
  {
   "cell_type": "code",
   "execution_count": 338,
   "metadata": {
    "collapsed": true
   },
   "outputs": [],
   "source": [
    "v1 = P[0,:] - P[1,:]\n",
    "v2 = P[1,:] - P[2,:]"
   ]
  },
  {
   "cell_type": "code",
   "execution_count": 289,
   "metadata": {
    "collapsed": true
   },
   "outputs": [],
   "source": [
    "cp = [v1[1] * v2[2] - v1[2] * v2[1],\n",
    "      v1[2] * v2[0] - v1[0] * v2[2],\n",
    "      v1[0] * v2[1] - v1[1] * v2[0]]"
   ]
  },
  {
   "cell_type": "code",
   "execution_count": 339,
   "metadata": {
    "collapsed": false
   },
   "outputs": [
    {
     "data": {
      "text/plain": [
       "array([ 13959. ,  -7236. , -28255.5])"
      ]
     },
     "execution_count": 339,
     "metadata": {},
     "output_type": "execute_result"
    }
   ],
   "source": [
    "normal_vec = np.cross(v1, v2)\n",
    "normal_vec"
   ]
  },
  {
   "cell_type": "code",
   "execution_count": 340,
   "metadata": {
    "collapsed": false
   },
   "outputs": [
    {
     "name": "stdout",
     "output_type": "stream",
     "text": [
      "(117.40110535941861, 89.996355930525766)\n"
     ]
    }
   ],
   "source": [
    "(a_1, a_2, a_0) = normal_vec\n",
    "\n",
    "maxslope = np.sqrt(a_1 ** 2 + a_2 ** 2)\n",
    "dip = np.arctan(maxslope) / np.pi * 180.\n",
    "dip_direction = np.abs(np.arctan2(-a_1, a_2)) / np.pi * 180.\n",
    "print(dip_direction, dip)"
   ]
  },
  {
   "cell_type": "code",
   "execution_count": 303,
   "metadata": {
    "collapsed": true
   },
   "outputs": [],
   "source": [
    "def dip(normal_vec):\n",
    "    return np.arctan(normal_vec[2]) / np.pi * 180."
   ]
  },
  {
   "cell_type": "code",
   "execution_count": 304,
   "metadata": {
    "collapsed": false
   },
   "outputs": [
    {
     "data": {
      "text/plain": [
       "45.0"
      ]
     },
     "execution_count": 304,
     "metadata": {},
     "output_type": "execute_result"
    }
   ],
   "source": [
    "dip(normal_vec)"
   ]
  },
  {
   "cell_type": "code",
   "execution_count": 305,
   "metadata": {
    "collapsed": false
   },
   "outputs": [],
   "source": [
    "# determine dip direction\n",
    "def dip_dir(normal_vec):\n",
    "    # +/+\n",
    "    if normal_vec[0] >= 0 and normal_vec[1] > 0:\n",
    "        return np.arctan(normal_vec[0]/normal_vec[1]) / np.pi * 180.\n",
    "    # border cases where arctan not defined:\n",
    "    elif normal_vec[0] > 0 and normal_vec[1] == 0:\n",
    "        return 90\n",
    "    elif normal_vec[0] < 0 and normal_vec[1] == 0:\n",
    "        return 270\n",
    "    # +-/-\n",
    "    elif normal_vec[1] < 0:\n",
    "        return 180 + np.arctan(normal_vec[0]/normal_vec[1]) / np.pi * 180.\n",
    "    # -/-\n",
    "    elif normal_vec[0] < 0 and normal_vec[1] >= 0:\n",
    "        return 360 + np.arctan(normal_vec[0]/normal_vec[1]) / np.pi * 180.\n",
    "#    elif normal_vec[1] == 0:\n",
    "#        return 90\n",
    "\n"
   ]
  },
  {
   "cell_type": "code",
   "execution_count": 306,
   "metadata": {
    "collapsed": false
   },
   "outputs": [
    {
     "data": {
      "text/plain": [
       "0.0"
      ]
     },
     "execution_count": 306,
     "metadata": {},
     "output_type": "execute_result"
    }
   ],
   "source": [
    "dip_dir(normal_vec)"
   ]
  },
  {
   "cell_type": "code",
   "execution_count": 295,
   "metadata": {
    "collapsed": false
   },
   "outputs": [
    {
     "data": {
      "text/plain": [
       "array([[ 0,  0,  0],\n",
       "       [ 1,  0,  0],\n",
       "       [ 0,  1, -1]])"
      ]
     },
     "execution_count": 295,
     "metadata": {},
     "output_type": "execute_result"
    }
   ],
   "source": [
    "P"
   ]
  },
  {
   "cell_type": "code",
   "execution_count": 217,
   "metadata": {
    "collapsed": false
   },
   "outputs": [],
   "source": [
    "P = P/np.max(P)"
   ]
  },
  {
   "cell_type": "code",
   "execution_count": 218,
   "metadata": {
    "collapsed": false
   },
   "outputs": [
    {
     "name": "stdout",
     "output_type": "stream",
     "text": [
      "The correspoding plane is (062/29)\n"
     ]
    }
   ],
   "source": [
    "dip, dip_direction = struct_geo.calculate_dip_direction_dip(P[0,:], P[1,:], P[2,:])\n",
    "print(\"The correspoding plane is (%03d/%02d)\" % (dip_direction, dip))"
   ]
  },
  {
   "cell_type": "code",
   "execution_count": 230,
   "metadata": {
    "collapsed": false
   },
   "outputs": [
    {
     "name": "stdout",
     "output_type": "stream",
     "text": [
      "(62.598894640562584, 29.094133772175024)\n"
     ]
    }
   ],
   "source": [
    "B = np.array([[1, P[0,0], P[0,1]],\n",
    "              [1, P[1,0], P[1,1]],\n",
    "              [1, P[2,0], P[2,1]]])\n",
    "              \n",
    "z = np.array([P[0,2], P[1,2], P[2,2]])\n",
    "\n",
    "(a_0, a_1, a_2) = np.linalg.solve(B, z)\n",
    "\n",
    "maxslope = np.sqrt(a_1**2 + a_2**2)\n",
    "dip_val = np.arctan(maxslope) / np.pi * 180.\n",
    "dip_direction_val = np.abs(np.arctan2(-a_1, -a_2)) /  np.pi * 180.\n",
    "print(dip_direction_val, dip_val)"
   ]
  },
  {
   "cell_type": "code",
   "execution_count": 244,
   "metadata": {
    "collapsed": false
   },
   "outputs": [],
   "source": [
    "nv = np.array([a_0, a_1, a_2])"
   ]
  },
  {
   "cell_type": "code",
   "execution_count": 245,
   "metadata": {
    "collapsed": false
   },
   "outputs": [
    {
     "data": {
      "text/plain": [
       "104.83828516458233"
      ]
     },
     "execution_count": 245,
     "metadata": {},
     "output_type": "execute_result"
    }
   ],
   "source": [
    "dip(nv)"
   ]
  },
  {
   "cell_type": "code",
   "execution_count": 246,
   "metadata": {
    "collapsed": false
   },
   "outputs": [
    {
     "data": {
      "text/plain": [
       "15.13351226003142"
      ]
     },
     "execution_count": 246,
     "metadata": {},
     "output_type": "execute_result"
    }
   ],
   "source": [
    "dip_dir(nv)"
   ]
  },
  {
   "cell_type": "code",
   "execution_count": 247,
   "metadata": {
    "collapsed": false
   },
   "outputs": [
    {
     "data": {
      "text/plain": [
       "array([ 0.13360895,  0.49402771, -0.25609173])"
      ]
     },
     "execution_count": 247,
     "metadata": {},
     "output_type": "execute_result"
    }
   ],
   "source": [
    "nv"
   ]
  },
  {
   "cell_type": "code",
   "execution_count": 315,
   "metadata": {
    "collapsed": true
   },
   "outputs": [],
   "source": [
    "(a_1, a_2, a_0) = normal_vec\n",
    "\n",
    "maxslope = np.sqrt(a_1 ** 2 + a_2 ** 2)\n",
    "dip = np.arctan(maxslope) / np.pi * 180.\n",
    "dip_direction = np.abs(np.arctan2(-a_1, a_2)) / np.pi * 180.\n"
   ]
  },
  {
   "cell_type": "code",
   "execution_count": 316,
   "metadata": {
    "collapsed": false
   },
   "outputs": [
    {
     "data": {
      "text/plain": [
       "(45.0, 0.0)"
      ]
     },
     "execution_count": 316,
     "metadata": {},
     "output_type": "execute_result"
    }
   ],
   "source": [
    "dip, dip_direction"
   ]
  },
  {
   "cell_type": "code",
   "execution_count": 317,
   "metadata": {
    "collapsed": false
   },
   "outputs": [
    {
     "data": {
      "text/plain": [
       "array([0, 1, 1])"
      ]
     },
     "execution_count": 317,
     "metadata": {},
     "output_type": "execute_result"
    }
   ],
   "source": [
    "normal_vec"
   ]
  },
  {
   "cell_type": "code",
   "execution_count": null,
   "metadata": {
    "collapsed": true
   },
   "outputs": [],
   "source": []
  }
 ],
 "metadata": {
  "kernelspec": {
   "display_name": "Python 2",
   "language": "python",
   "name": "python2"
  },
  "language_info": {
   "codemirror_mode": {
    "name": "ipython",
    "version": 2
   },
   "file_extension": ".py",
   "mimetype": "text/x-python",
   "name": "python",
   "nbconvert_exporter": "python",
   "pygments_lexer": "ipython2",
   "version": "2.7.11"
  }
 },
 "nbformat": 4,
 "nbformat_minor": 0
}
